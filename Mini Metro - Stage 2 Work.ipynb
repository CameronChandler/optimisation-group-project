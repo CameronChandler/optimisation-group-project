{
 "cells": [
  {
   "cell_type": "code",
   "execution_count": 1,
   "id": "e1342f53",
   "metadata": {},
   "outputs": [],
   "source": [
    "from metro_utils import graph, extract_stations, pairs2rails, subsets, total_distance, gen_distance_matrix\n",
    "from station import Station\n",
    "from city import City\n",
    "from collections import defaultdict as dd\n",
    "import matplotlib.pyplot as plt\n",
    "%matplotlib inline\n",
    "import numpy as np"
   ]
  },
  {
   "cell_type": "markdown",
   "id": "b746540b",
   "metadata": {},
   "source": [
    "F mild changes to base classes:\n",
    "\n",
    "- `graphs(..., fix_aspect=False)` optional arg to stop scaling of the visuals; and addition of low-quality station id labels\n",
    "- `__repr__` for station is slightly different, was getting confused if I was dealing with 0 or Station 0\n",
    "\n",
    "Other key points:\n",
    "\n",
    "- Test cases in json file, I'll add to this but so far the main ones are `hexagon`, `loop_feasibility` and the `_cluster` family. See how-to import in new notebook\n"
   ]
  },
  {
   "cell_type": "markdown",
   "id": "4bf80fc9",
   "metadata": {},
   "source": [
    "# Stage 0\n",
    "TSP\n",
    "\n",
    "$$\\begin{aligned}\n",
    "&z=\\min \\sum_{i=1}^{n} \\sum_{j=1}^{n} c_{i j} x_{i j} \\\\\n",
    "&\\text { s.t. } \\\\\n",
    "&\\sum_{j=1}^{n} x_{i j}=1, \\quad i \\in I, \\\\\n",
    "&\\sum_{i=1}^{n} x_{i j}=1, \\quad j \\in I, \\\\\n",
    "&\\sum_{i \\in S}\\sum_{j \\in S} x_{ij} \\leq |S|-1, \\qquad S \\subset I, 2 \\leq |S| \\leq n-1, \\\\\n",
    "&x_{i j} \\in\\{0,1\\}, \\quad i, j=1, \\ldots, n.\n",
    "\\end{aligned}$$"
   ]
  },
  {
   "cell_type": "code",
   "execution_count": 2,
   "id": "fbbedd99",
   "metadata": {},
   "outputs": [],
   "source": [
    "# Load test cases\n",
    "# Highly recommend https://www.mathsisfun.com/data/cartesian-coordinates-interactive.html for creating these easily\n",
    "\n",
    "from json import load\n",
    "\n",
    "ignore_fields = [\"description\", \"comment\", \"source\"]\n",
    "def filter_ignore(d):\n",
    "    return {k: v for k, v in d.items() if k not in ignore_fields}\n",
    "\n",
    "with open(\"test_cases.json\", \"r\") as f:\n",
    "    tests = load(f, object_hook=filter_ignore)"
   ]
  },
  {
   "cell_type": "code",
   "execution_count": 3,
   "id": "26430706",
   "metadata": {},
   "outputs": [],
   "source": [
    "# Choose problem to use in code below\n",
    "test_choice = \"force_rail_overlap\"\n",
    "locations = tests[test_choice][\"locations\"]\n",
    "N_STATIONS = len(locations)\n",
    "kinds = tests[test_choice][\"kinds\"]\n",
    "\n",
    "city = City(**tests[test_choice])\n",
    "stations = city.stations\n",
    "\n",
    "dist = gen_distance_matrix(city)\n",
    "S = list(range(N_STATIONS))\n",
    "subs = subsets(S)"
   ]
  },
  {
   "cell_type": "code",
   "execution_count": 4,
   "id": "cdf3ae9f",
   "metadata": {},
   "outputs": [
    {
     "name": "stdout",
     "output_type": "stream",
     "text": [
      "Set parameter Username\n",
      "\n",
      "--------------------------------------------\n",
      "Warning: your license will expire in 12 days\n",
      "--------------------------------------------\n",
      "\n",
      "Academic license - for non-commercial use only - expires 2022-05-18\n",
      "Gurobi Optimizer version 9.5.1 build v9.5.1rc2 (win64)\n",
      "Thread count: 4 physical cores, 4 logical processors, using up to 4 threads\n",
      "Optimize a model with 47 rows, 36 columns and 210 nonzeros\n",
      "Model fingerprint: 0xb2c6640b\n",
      "Variable types: 0 continuous, 36 integer (0 binary)\n",
      "Coefficient statistics:\n",
      "  Matrix range     [1e+00, 1e+00]\n",
      "  Objective range  [1e+00, 7e+00]\n",
      "  Bounds range     [0e+00, 0e+00]\n",
      "  RHS range        [1e+00, 2e+00]\n",
      "Found heuristic solution: objective 23.3137085\n",
      "Presolve removed 0 rows and 6 columns\n",
      "Presolve time: 0.00s\n",
      "Presolved: 47 rows, 30 columns, 210 nonzeros\n",
      "Variable types: 0 continuous, 30 integer (30 binary)\n",
      "\n",
      "Root relaxation: objective 1.965685e+01, 14 iterations, 0.00 seconds (0.00 work units)\n",
      "\n",
      "    Nodes    |    Current Node    |     Objective Bounds      |     Work\n",
      " Expl Unexpl |  Obj  Depth IntInf | Incumbent    BestBd   Gap | It/Node Time\n",
      "\n",
      "H    0     0                      19.6568542    0.00000   100%     -    0s\n",
      "     0     0          -    0        19.65685   19.65685  0.00%     -    0s\n",
      "\n",
      "Explored 1 nodes (17 simplex iterations) in 0.02 seconds (0.00 work units)\n",
      "Thread count was 4 (of 4 available processors)\n",
      "\n",
      "Solution count 2: 19.6569 23.3137 \n",
      "\n",
      "Optimal solution found (tolerance 1.00e-04)\n",
      "Best objective 1.965685424949e+01, best bound 1.965685424949e+01, gap 0.0000%\n"
     ]
    }
   ],
   "source": [
    "import gurobipy as gp\n",
    "from gurobipy import GRB\n",
    "\n",
    "m = gp.Model()\n",
    "\n",
    "x = m.addVars(N_STATIONS, N_STATIONS, vtype=GRB.INTEGER, name=\"x\")\n",
    "\n",
    "m.setObjective(gp.quicksum(dist[s1, s2]*x[s1, s2] for s1 in S for s2 in S if s1 != s2), GRB.MINIMIZE)\n",
    "\n",
    "# leave each station only once\n",
    "m.addConstrs(gp.quicksum(x[s1, s2] for s1 in S if s1 != s2 ) == 1 for s2 in S)\n",
    "# enter each station only once\n",
    "m.addConstrs(gp.quicksum(x[s1, s2] for s2 in S if s1 != s2 ) == 1 for s1 in S)\n",
    "# Subtour elimination constraints\n",
    "for sub in subs:\n",
    "    m.addConstr(gp.quicksum(x[s1, s2] for s1 in sub for s2 in sub if s1 != s2) <= len(sub) - 1)\n",
    "\n",
    "m.optimize()"
   ]
  },
  {
   "cell_type": "code",
   "execution_count": 5,
   "id": "4c7348e1",
   "metadata": {},
   "outputs": [
    {
     "data": {
      "image/png": "[encoded data removed]",
      "text/plain": [
       "<Figure size 864x864 with 1 Axes>"
      ]
     },
     "metadata": {},
     "output_type": "display_data"
    }
   ],
   "source": [
    "best = pairs2rails([extract_stations(v.varName, city) for v in m.getVars() if v.x > 1e-6])\n",
    "graph(stations, best, equal_aspect=True)"
   ]
  },
  {
   "cell_type": "markdown",
   "id": "cbbcda1e",
   "metadata": {},
   "source": [
    "## Stage 2 - MIP Approach"
   ]
  },
  {
   "cell_type": "code",
   "execution_count": 6,
   "id": "a16d9c37",
   "metadata": {},
   "outputs": [],
   "source": [
    "def demand_by_centrality(stations, C=3):\n",
    "    \"\"\"Simple proxy demand for testing the framework\n",
    "    # d = Cexp(-norm_2(rescaled(s - map_midpoint)))\n",
    "    # Rescaled(s) = s' is s.t. norm_1(s') <= 1\n",
    "    # And map_midpoint = midpoint/center of the minimal bounding box for the stations\n",
    "    #\n",
    "    # ASSUMES:\n",
    "    # That more central stations (by how MM generates its worlds) get/need more traffic\n",
    "    \"\"\"\n",
    "    import math\n",
    "    lb = min([s.x for s in stations])\n",
    "    rb = max([s.x for s in stations])\n",
    "    db = min([s.y for s in stations])\n",
    "    ub = max([s.y for s in stations])\n",
    "\n",
    "    cx = (lb+rb)/2\n",
    "    cy = (db+ub)/2\n",
    "    d = np.zeros([n])\n",
    "    for i,s in enumerate(stations):\n",
    "        d[i] = C*math.exp(-math.sqrt(((s.x-cx)/(rb-lb))**2 + ((s.y-cy)/(ub-lb))**2))\n",
    "    return d"
   ]
  },
  {
   "cell_type": "code",
   "execution_count": 14,
   "id": "a6aaba9d",
   "metadata": {},
   "outputs": [],
   "source": [
    "# A few modifications, but otherwise the same hyperparameters\n",
    "n = N_STATIONS  # no. customers\n",
    "M = 2\n",
    "D = range(M) # set of vehicles\n",
    "V = S  # customers\n",
    "DUMMY = n  # dummy depot's index\n",
    "V0 = S + [DUMMY]  # customers + depot\n",
    "\n",
    "Q = n  # capacities of vehicles (assumed homogenous)\n",
    "K = 1 # 3\n",
    "L = 100 # N_STATIONS - (M-1)*K\n",
    "mk = 1 # Num trains from kth depot\n",
    "\n",
    "# Slightly larger cost matrix, just with a row/col of zeros for the dummy depot\n",
    "cost = np.zeros([n+1,n+1])\n",
    "cost[:n,:n] = dist \n",
    "\n",
    "# Demands. Unit demands is TSP-like if capacity Q = |S|\n",
    "# d = np.ones([n])\n",
    "\n",
    "# OR assign demand based on centrality. Normalise demand to ensure feasibility\n",
    "d = demand_by_centrality(stations, C=2)\n",
    "d = d * Q * M / d.sum()\n",
    "\n",
    "# Special-case: A `hexagon` demand assignment to showcase overlapping\n",
    "# d = [0.8, 8, 0.8, 8, 0.8, 0.8, 0.8]"
   ]
  },
  {
   "cell_type": "markdown",
   "id": "78e548ea",
   "metadata": {},
   "source": [
    "## SDVRP - Based Implementation\n",
    "\n",
    "*Done, but needs cleaning, and may not be most powerful MIP model possible*"
   ]
  },
  {
   "cell_type": "markdown",
   "id": "e56d3062",
   "metadata": {},
   "source": [
    "**Origin**: Archetti et al.'s Tabu search paper <a href=\"https://www.jstor.org/stable/25769283\">here</a> though it is expanded on in **The Split Delivery Vehicle Routing Problem: A Survey** (Archetti et al.) <a href=\" https://www-or.amp.i.kyoto-u.ac.jp/ramp2006/paper/2-1.pdf\">here</a>\n",
    "\n",
    "### Modifications made to the SDVRP model above:\n",
    "\n",
    "0. I have been setting 'demands' to be inversely proportional to the 'centre' of the city network; this is to introduce higher-demand cities in an attempt to promote crossings.\n",
    "1. Added a single 'dummy depot' from which all vehicles must leave and enter. This is to detach from 'specified/fixed depot' concept.\n",
    "2. Added extra constraints to discourage self-joins (could probably merge into another constraint)\n",
    "3. Added extra constraints to enforce that all vehicles must leave, and enter, dummy depot exactly once\n",
    "4. Switched from DFJ SEC's to MTZ SEC's; I feel it is easier to work with when it comes to allowing loops within a route, and furthermore avoids exponentially many constraints\n",
    "5. Modified MTZ SEC to 'allow' a subtour-forming join IF that node would connect directly to the dummy depot\n",
    "\n",
    "> (Refresher: MTZ SEC's) $u_i − u_j+ px_{ij} \\leq p − 1\\quad\\forall i,j \\in V$ (here $p$ = `N_STATIONS`)\n",
    "\n",
    "> (What I used) $u_i^{[k]} − u_j^{[k]}+ px_{ij}^{[k]} \\leq p − 1 + px_{jD}^{[k]}\\quad\\forall i,j \\in V,\\ k\\in D$\n",
    "\n",
    "- Idea: if (i -> j), if j is not the last trainstop prior to a depot, then it's just ordinary MTZ but per-route\n",
    "- If however (i -> j) and (j -> depot) then (because we'll have u[j,k] = 0 < u[i,k]) we add in p again \n",
    "\n",
    "6. Capacities of vehicles/trains are homogenous, but easily modifiable"
   ]
  },
  {
   "cell_type": "code",
   "execution_count": 15,
   "id": "78c129ec",
   "metadata": {},
   "outputs": [
    {
     "name": "stdout",
     "output_type": "stream",
     "text": [
      "Gurobi Optimizer version 9.5.1 build v9.5.1rc2 (win64)\n",
      "Thread count: 4 physical cores, 4 logical processors, using up to 4 threads\n",
      "Optimize a model with 193 rows, 122 columns and 894 nonzeros\n",
      "Model fingerprint: 0xa0ed02ff\n",
      "Variable types: 24 continuous, 98 integer (0 binary)\n",
      "Coefficient statistics:\n",
      "  Matrix range     [1e+00, 6e+00]\n",
      "  Objective range  [1e+00, 7e+00]\n",
      "  Bounds range     [0e+00, 0e+00]\n",
      "  RHS range        [1e+00, 6e+00]\n",
      "Found heuristic solution: objective 19.4852814\n",
      "Presolve removed 66 rows and 20 columns\n",
      "Presolve time: 0.00s\n",
      "Presolved: 127 rows, 102 columns, 690 nonzeros\n",
      "Variable types: 18 continuous, 84 integer (84 binary)\n",
      "\n",
      "Root relaxation: objective 1.000000e+01, 46 iterations, 0.00 seconds (0.00 work units)\n",
      "\n",
      "    Nodes    |    Current Node    |     Objective Bounds      |     Work\n",
      " Expl Unexpl |  Obj  Depth IntInf | Incumbent    BestBd   Gap | It/Node Time\n",
      "\n",
      "     0     0   10.00000    0    4   19.48528   10.00000  48.7%     -    0s\n",
      "H    0     0                      16.6568542   10.00000  40.0%     -    0s\n",
      "H    0     0                      13.3137085   10.00000  24.9%     -    0s\n",
      "H    0     0                      12.4852814   10.32843  17.3%     -    0s\n",
      "     0     0   10.65685    0   12   12.48528   10.65685  14.6%     -    0s\n",
      "     0     0   10.65685    0   16   12.48528   10.65685  14.6%     -    0s\n",
      "     0     0   10.65685    0   24   12.48528   10.65685  14.6%     -    0s\n",
      "H    0     0                      11.3137085   10.65685  5.81%     -    0s\n",
      "     0     0   10.71703    0   16   11.31371   10.71703  5.27%     -    0s\n",
      "     0     0   10.71703    0    4   11.31371   10.71703  5.27%     -    0s\n",
      "     0     0   10.71703    0   12   11.31371   10.71703  5.27%     -    0s\n",
      "     0     0 infeasible    0        11.31371   11.31371  0.00%     -    0s\n",
      "\n",
      "Cutting planes:\n",
      "  Gomory: 2\n",
      "  MIR: 5\n",
      "  StrongCG: 1\n",
      "  Zero half: 2\n",
      "  RLT: 6\n",
      "\n",
      "Explored 1 nodes (221 simplex iterations) in 0.10 seconds (0.01 work units)\n",
      "Thread count was 4 (of 4 available processors)\n",
      "\n",
      "Solution count 5: 11.3137 12.4853 13.3137 ... 19.4853\n",
      "\n",
      "Optimal solution found (tolerance 1.00e-04)\n",
      "Best objective 1.131370849898e+01, best bound 1.131370849898e+01, gap 0.0000%\n"
     ]
    }
   ],
   "source": [
    "m = gp.Model()\n",
    "MIN_EDGES = 3  # relevant to an extra constraint that avoids short-lived train stops; Ants approach would do better here\n",
    "\n",
    "x = m.addVars(N_STATIONS+1, N_STATIONS+1, M, vtype=GRB.INTEGER, name=\"x\") # node i --> node j on path of vehicle k\n",
    "y = m.addVars(N_STATIONS, M, lb=0.0, name=\"y\")  # quantity of ith site's demand satisfied by kth vehicle/route\n",
    "u = m.addVars(N_STATIONS, M, lb=0.0, name=\"u\")  # MTZ potentials\n",
    "\n",
    "m.setObjective(gp.quicksum(cost[i,j]*x[i,j,k] for i in V0 for j in V0 for k in D), GRB.MINIMIZE)\n",
    "\n",
    "# EDGE CONSISTENCY CONSTRAINTS\n",
    "\n",
    "# 2: at least one edge enters every j (including the depot)\n",
    "m.addConstrs(gp.quicksum(x[i,j,k] for i in V0 for k in D) >= 1 for j in V0)\n",
    "# 3: in == out for every node + depot, per-route basis (and hence in general)\n",
    "m.addConstrs((gp.quicksum(x[i,j,k] for i in V0) - gp.quicksum(x[j,i,k] for i in V0) == 0 for j in V0 for k in D))\n",
    "\n",
    "# SUBTOUR CONSTRAINTS \n",
    "# 4_modified: SEC using MTZ\n",
    "m.addConstrs((u[i,k] - u[j,k] + N_STATIONS*x[i,j,k] <= N_STATIONS-1 + \\\n",
    "                  N_STATIONS*x[j,DUMMY,k] for i in V for j in V if i != j for k in D))\n",
    "\n",
    "# DEMAND CONSTRANTS\n",
    "\n",
    "# 5: ith demand can only be sated by route k if there's an outbound edge from i on that path\n",
    "m.addConstrs(y[i,k] <= d[i]*gp.quicksum(x[i,j,k] for j in V0) for i in V for k in D)\n",
    "\n",
    "# 6: total sated demand @ i must meet demand\n",
    "m.addConstrs(gp.quicksum(y[i,k] for k in D) == d[i] for i in V)\n",
    "\n",
    "# 7: (MODIFIED FOR HOMOGENOUS CAPACITY) total sated demand by k cannot exceed capacity of vehicle\n",
    "m.addConstrs((gp.quicksum(y[i,k] for i in V) <= Q for k in D))\n",
    "\n",
    "# 8,9: Domain constraints (already handled)\n",
    "\n",
    "# EXTRA constraints\n",
    "\n",
    "# X1. No self-joins\n",
    "m.addConstrs(x[i,i,k] <= 0 for i in V0 for k in D)\n",
    "# X2. For a given k, you must (and only once) enter the dummy depot, and leave the dummy depot\n",
    "m.addConstrs(gp.quicksum(x[i,DUMMY,k] for i in V) == mk for k in D)\n",
    "m.addConstrs(gp.quicksum(x[DUMMY,i,k] for i in V) == mk for k in D)\n",
    "# X3. Perhaps obvious, but the same vehicle cannot cross the same connection twice (excluding depot here is key)\n",
    "m.addConstrs((x[i,j,k] + x[j,i,k] <= 1 for i in V for j in V for k in D))\n",
    "# X4. Routes must have more than 2 edges\n",
    "m.addConstrs((gp.quicksum(x[i,j,k] for i in V0 for j in V0) >= MIN_EDGES for k in D))\n",
    "\n",
    "# Experimental constraints\n",
    "\n",
    "# E1. If d() satisfies triangle ineq, then for a pair of routes, can only share one customer (see the Survey paper)\n",
    "# == NO EDGE SHARING\n",
    "# m.addConstrs((gp.quicksum(x[i,j,k] for k in D) <= 1 for i in V for j in V))\n",
    "# E2. (added for negative costs to stop lollygagging) \n",
    "# total number of edges should not exceed N_STATIONS + 2*M (to allow loops)\n",
    "# m.addConstr(gp.quicksum(x[i,j,k] for i in V0 for j in V0 for k in D) <= N_STATIONS + 2*M)\n",
    "\n",
    "# Special case: Used for testing feasibility of a loop in \"loop_feasibility\" (3 here is the depot)\n",
    "#m.addConstr(x[3,2,0] == 1)\n",
    "#m.addConstr(x[2,1,0] == 1)\n",
    "#m.addConstr(x[1,0,0] == 1)\n",
    "#m.addConstr(x[0,2,0] == 1)\n",
    "#m.addConstr(x[2,3,0] == 1)\n",
    "\n",
    "m.optimize()"
   ]
  },
  {
   "cell_type": "code",
   "execution_count": 16,
   "id": "1ec07416",
   "metadata": {},
   "outputs": [
    {
     "name": "stdout",
     "output_type": "stream",
     "text": [
      "x[0,4,0] 1.0\n",
      "x[1,6,0] 1.0\n",
      "x[2,6,1] 1.0\n",
      "x[3,5,1] 1.0\n",
      "x[4,1,0] 1.0\n",
      "x[5,2,1] 1.0\n",
      "x[6,0,0] 1.0\n",
      "x[6,3,1] 1.0\n",
      "y[0,0] 1.5644905194286478\n",
      "y[0,1] 0.0\n",
      "y[1,0] 1.5644905194286476\n",
      "y[1,1] 0.0\n",
      "y[2,0] 0.0\n",
      "y[2,1] 1.5644905194286476\n",
      "y[3,0] 0.0\n",
      "y[3,1] 1.5644905194286476\n",
      "y[4,0] 2.8710189611427057\n",
      "y[4,1] 0.0\n",
      "y[5,0] 0.0\n",
      "y[5,1] 2.8710189611427057\n",
      "u[4,0] 1.0000000000000018\n",
      "u[5,1] 1.0000000000000027\n"
     ]
    }
   ],
   "source": [
    "for var in m.getVars():\n",
    "    if abs(var.x) > 0 or var.varName[0] in \"y\":\n",
    "        print(var.varName, var.x)"
   ]
  },
  {
   "cell_type": "code",
   "execution_count": 17,
   "id": "4455e058",
   "metadata": {},
   "outputs": [
    {
     "data": {
      "text/plain": [
       "[[<0>, <4>, 0], [<3>, <5>, 1], [<4>, <1>, 0], [<5>, <2>, 1]]"
      ]
     },
     "metadata": {},
     "output_type": "display_data"
    },
    {
     "data": {
      "text/plain": [
       "defaultdict(list, {0: [[<0>, <4>], [<4>, <1>]], 1: [[<3>, <5>], [<5>, <2>]]})"
      ]
     },
     "execution_count": 17,
     "metadata": {},
     "output_type": "execute_result"
    }
   ],
   "source": [
    "from ast import literal_eval\n",
    "SOURCE_IDX = 0\n",
    "TARGET_IDX = 1\n",
    "RAIL_IDX = 2\n",
    "\n",
    "# Modified connections definition to disquality report of dummy depot-related edges\n",
    "connections = [extract_stations(v.varName, city) for v in m.getVars() if v.x > 1e-6 and v.varName[0] == 'x' and \\\n",
    "                  literal_eval(v.varName[1:])[SOURCE_IDX] != DUMMY and literal_eval(v.varName[1:])[TARGET_IDX] != DUMMY]\n",
    "display(connections)\n",
    "#connections = [extract_stations(v.varName, city) for v in m.getVars() if v.x > 1e-6 and v.varName[0] == 'x' and \\\n",
    "#                  literal_eval(v.varName[1:])[0] < n]\n",
    "\n",
    "rail_pairs = dd(list)\n",
    "for connection in connections:\n",
    "    rail_pairs[connection[RAIL_IDX]].append(connection[:2])\n",
    "    \n",
    "rail_pairs"
   ]
  },
  {
   "cell_type": "code",
   "execution_count": 18,
   "id": "4ff4f325",
   "metadata": {},
   "outputs": [],
   "source": [
    "# Flawed - cannot handle the below (hexagon-generated with negative costs)\n",
    "\"\"\"\n",
    "defaultdict(list,\n",
    "            {0: [[<0>, <3>],\n",
    "              [<1>, <4>],\n",
    "              [<2>, <5>],\n",
    "              [<3>, <6>],\n",
    "              [<4>, <2>],\n",
    "              [<5>, <1>],\n",
    "              [<6>, <4>]]})\"\"\"\n",
    "\n",
    "def modified_pairs2rails(pairs, debug=False):\n",
    "    starts = [pair[0] for pair in pairs]\n",
    "    ends   = [pair[1] for pair in pairs]\n",
    "    \n",
    "    for end in ends:\n",
    "        if end not in starts:\n",
    "            station = end\n",
    "            break\n",
    "    else:\n",
    "        station = starts[0]\n",
    "        \n",
    "    if debug: print(station)\n",
    "    \n",
    "    # build the rails\n",
    "    dict_pairs = dict(pairs)\n",
    "    rev_pairs = {v:k for (k,v) in dict_pairs.items()}\n",
    "    # rails is a list that encodes the edge sequence\n",
    "    rails = [station]\n",
    "    while rev_pairs:\n",
    "        if debug: print(rev_pairs)\n",
    "        station = rev_pairs.pop(station)\n",
    "        rails.append(station)\n",
    "    \n",
    "    return rails[::-1]"
   ]
  },
  {
   "cell_type": "code",
   "execution_count": 19,
   "id": "1af4d9d1",
   "metadata": {},
   "outputs": [],
   "source": [
    "rails = []\n",
    "\n",
    "for rail, pairs in rail_pairs.items():\n",
    "    rails.append(modified_pairs2rails(pairs, debug=False))"
   ]
  },
  {
   "cell_type": "code",
   "execution_count": 20,
   "id": "2b36d957",
   "metadata": {
    "scrolled": false
   },
   "outputs": [
    {
     "data": {
      "image/png": "[encoded data removed]",
      "text/plain": [
       "<Figure size 864x864 with 1 Axes>"
      ]
     },
     "metadata": {},
     "output_type": "display_data"
    }
   ],
   "source": [
    "graph(stations, rails)"
   ]
  },
  {
   "cell_type": "markdown",
   "id": "b31eaee8",
   "metadata": {},
   "source": [
    "## Ant - Based Implementation (Callum WIP)"
   ]
  },
  {
   "cell_type": "code",
   "execution_count": 21,
   "id": "4091d1c9",
   "metadata": {},
   "outputs": [
    {
     "name": "stdout",
     "output_type": "stream",
     "text": [
      "Gurobi Optimizer version 9.5.1 build v9.5.1rc2 (win64)\n",
      "Thread count: 4 physical cores, 4 logical processors, using up to 4 threads\n",
      "Optimize a model with 204 rows, 110 columns and 1092 nonzeros\n",
      "Model fingerprint: 0x44189e1e\n",
      "Variable types: 0 continuous, 110 integer (0 binary)\n",
      "Coefficient statistics:\n",
      "  Matrix range     [1e+00, 1e+02]\n",
      "  Objective range  [1e+00, 7e+00]\n",
      "  Bounds range     [0e+00, 0e+00]\n",
      "  RHS range        [1e+00, 1e+02]\n",
      "Found heuristic solution: objective 20.6568542\n",
      "Presolve removed 60 rows and 18 columns\n",
      "Presolve time: 0.00s\n",
      "Presolved: 144 rows, 92 columns, 884 nonzeros\n",
      "Variable types: 0 continuous, 92 integer (80 binary)\n",
      "\n",
      "Root relaxation: objective 1.065685e+01, 57 iterations, 0.00 seconds (0.00 work units)\n",
      "\n",
      "    Nodes    |    Current Node    |     Objective Bounds      |     Work\n",
      " Expl Unexpl |  Obj  Depth IntInf | Incumbent    BestBd   Gap | It/Node Time\n",
      "\n",
      "     0     0   10.65685    0   24   20.65685   10.65685  48.4%     -    0s\n",
      "H    0     0                      19.4852814   10.65685  45.3%     -    0s\n",
      "H    0     0                      13.4852814   10.65685  21.0%     -    0s\n",
      "H    0     0                      11.6568542   10.65685  8.58%     -    0s\n",
      "\n",
      "Cutting planes:\n",
      "  Gomory: 4\n",
      "  Implied bound: 1\n",
      "  MIR: 7\n",
      "  Zero half: 6\n",
      "  RLT: 9\n",
      "\n",
      "Explored 1 nodes (75 simplex iterations) in 0.06 seconds (0.00 work units)\n",
      "Thread count was 4 (of 4 available processors)\n",
      "\n",
      "Solution count 4: 11.6569 13.4853 19.4853 20.6569 \n",
      "\n",
      "Optimal solution found (tolerance 1.00e-04)\n",
      "Best objective 1.165685424949e+01, best bound 1.165685424949e+01, gap 0.0000%\n"
     ]
    }
   ],
   "source": [
    "# Has inherited all hyperparameters from a cell above\n",
    "m = gp.Model()\n",
    "K = 1\n",
    "\n",
    "# node i --> node j on path from depot k\n",
    "x = m.addVars(N_STATIONS+1, N_STATIONS+1, M, vtype=GRB.INTEGER, name=\"x\")\n",
    "# node i potential, ONLY for actual customers (not dummy) MODIFIED\n",
    "u = m.addVars(N_STATIONS, M, vtype=GRB.INTEGER, name=\"u\")\n",
    "\n",
    "# MODIFIED: k depots --> one depot, which is dummy. So D now represents routes, NOT sources.\n",
    "m.setObjective(gp.quicksum(cost[i, j]*x[i, j, k] for k in D for j in V0 for i in V0), GRB.MINIMIZE)\n",
    "\n",
    "# 2\n",
    "m.addConstrs(gp.quicksum(x[DUMMY, j, k] for j in V) == mk for k in D)\n",
    "# 3: MODIFIED - to allow cross-over\n",
    "m.addConstrs(gp.quicksum(x[i, j, k] for k in D for i in V0) >= 1 for j in V)\n",
    "# m.addConstrs(gp.quicksum(x[k, j, k] for k in D) + gp.quicksum(x[i, j, k] for k in D for i in V) == 1 for j in V)\n",
    "\n",
    "# 4 SIMPLIFIED\n",
    "m.addConstrs(gp.quicksum(x[i, j, k] for i in V0) - gp.quicksum(x[j, i, k] for i in V0) == 0 for k in D for j in V)\n",
    "# 5 PRETTY SURE CAN BE MERGED INTO 4 BUT LEFT IT HERE\n",
    "m.addConstrs(gp.quicksum(x[k, j, k] for j in V) - gp.quicksum(x[j, k, k] for j in V) == 0 for k in D)\n",
    "\n",
    "\n",
    "# 6: UPPER-BOUND L. POTENTIAL CONSTRICTIONS, ESP. ENFORCING L AS A LIMIT.\n",
    "# L APPEARS TO 'INCLUDE' THE DEPOT\n",
    "m.addConstrs(u[i,k] + (L - 2)*gp.quicksum(x[DUMMY, i, k] for k in D) - \n",
    "              gp.quicksum(x[i, DUMMY, k] for k in D) <= L - 1 for i in V for k in D)\n",
    "# 7: LOWER-BOUND U. READS LIKE FORCING END-OF-LINE STATIONS TO MEET THE LOWER BOUND\n",
    "# SEEMS LIKE IF K=3 THEN THERE ARE 3 TRAINSTOPS EXCLUDING THE DEPOT\n",
    "m.addConstrs(u[i,k] + gp.quicksum(x[DUMMY, i, k] for k in D) + (2 - K)*gp.quicksum(x[i, DUMMY, k] for k in D) >= 2 \\\n",
    "             for i in V for k in D)\n",
    "# 8: Can't just leave depot then come back.\n",
    "m.addConstrs(gp.quicksum(x[DUMMY, i, k] for k in D) + gp.quicksum(x[i, DUMMY, k] for k in D) <= 1 for i in V)\n",
    "# 9: SEC enforcement, L is a nice proxy here for max potential\n",
    "m.addConstrs(u[i,k] - u[j,k] + L*gp.quicksum(x[i, j, k] for k in D) + \\\n",
    "              (L - 2)*gp.quicksum(x[j, i, k] for k in D) <= L - 1 + \\\n",
    "                  (N_STATIONS+1)*x[j,DUMMY,k] for i in V for j in V if i != j for k in D)\n",
    "\n",
    "\n",
    "# 10 MODIFIED - include depot\n",
    "m.addConstrs(x[i, i, k] == 0 for i in V0 for k in D)\n",
    "\n",
    "# EXTRA constraints (particularly given the ghost depot)\n",
    "# X2. For a given v, you must (and only once) enter the dummy depot, and leave the dummy depot\n",
    "m.addConstrs(gp.quicksum(x[DUMMY,i,k] for i in V) == mk for k in D)\n",
    "m.addConstrs(gp.quicksum(x[i,DUMMY,k] for i in V) == mk for k in D)\n",
    "# X3. Perhaps obvious, but the same vehicle cannot cross the same connection twice (excluding depot here is key)\n",
    "m.addConstrs((x[i,j,k] + x[j,i,k] <= 1 for i in V for j in V for k in D))\n",
    "# X4. Routes must have more than 2 edges CHECKHCKECHCKEHCJ\n",
    "m.addConstrs((gp.quicksum(x[i,j,k] for i in V0 for j in V0) >= 3 for k in D))\n",
    "\n",
    "m.optimize()"
   ]
  },
  {
   "cell_type": "markdown",
   "id": "bc4ced61",
   "metadata": {},
   "source": [
    "### (Mostly out-of-context thoughts) \n",
    "\n",
    "### Open problems and relevant discussion\n",
    "\n",
    "Problems:\n",
    "\n",
    "1. 'as-is' DFJ SEC in Archetti et al. didn't work, in part because you 'want' some of the kinds of subtour behaviour (customer-to-customer) that it is trying to stop.\n",
    "    - PATH 1 (implemented): Use MTZ SEC's instead\n",
    "    - PATH 2a: Allow the subtour if the subset exactly matches with a current vehicle route (quantified by `|S| == sum(x[i,j,v] for i in S for j in S) for any v in V`). Be careful to allow 'subtours' that connect to the depot, but not 'subtours' that ignore the depot.\n",
    "    - PATH 2b: Use disjunctive ideas to deactivate the |S|-1 constraint in such a situation.\n",
    "        - SOLN IDEA: the constr is `(E(S,v) <= |S| - 1 + 10e6*(E(S,v) == E(v))`\n",
    "        - OR set `f[s,v]` integer and constrain with `f[s,v] <= E[v] - E[s,v]`\n",
    "\n",
    "\n",
    "2. Loops, while permissible upon a solution to (P1) are not optimal, as it is always cheaper to just form a straight route and then go back to dummy-depot.\n",
    "    - NOTE: It is easily verified that loops are now allowed by setting the cost matrix to be 100% negative, encouraging as long a path as it can have (which is `N_STATIONS+1`). Not very tractable for gurobi though\n",
    "\n",
    "\n",
    "3. Actual optimisation for MM goals (high station diversity, all-types-reachable). I suspect the 'demand satisfaction' idea can effectively be chucked with zero consequences. Heuristic arguments can be used to motivate these issues.\n",
    "\n",
    "\n",
    "4. My drafted algorithm is slow for 3-cluster (i.e. `N_STATIONS=12`) where the clusters were forced to connect; more constraints may hinder this. Regardless, some optimisations to the solution procedure, perhaps in the Tabu paper or hinted at in the survey, may be important for pushing forward.\n",
    "\n",
    "\n",
    "5. Ignoring what I've done, there's an awful lot of 'many-paths-work' once you utilise dummy depots. Ant, nonfixed MmTSP, SDVRP, all can work. So it's a matter of choice.\n",
    "- Caveat I've noticed: Ant can be well-enough adapted to allow loops IF you set up TWO dummy depots... otherwise you have to kill (8). It's been causing problems for me\n",
    "> Apologies, but while I'm confident the SDVRP-based will not form bad subtours, I can't remember the reasoning\n",
    "\n",
    "6. If costs satisfy triangle inequality, the SDVRP optimals have one overlapping customer, max. This would allow another constraint, that each edge can only be crossed by one train max (though that violates some play strategy in MM).\n",
    "    - (but what if d >>>> Q?)\n",
    "    - I conjecture it is true for MM since d(a,b) - |b-a| is upper-bounded at ~9% of ||b-a|| and any 3 points will have a corresponding 'convex' path\n",
    "\n",
    "Random:\n",
    "\n",
    "- Allowing boosted train capacity (since carriages possible)\n",
    "- `hexagon` + biased demand weights == easy check that overlap is okay\n",
    "- `loop_feasibility` + negative costs == easy check that loops are okay \n",
    "- `donut` == easy check for a problem that needs a loop solution"
   ]
  },
  {
   "cell_type": "markdown",
   "id": "4c15da22",
   "metadata": {},
   "source": [
    "# Stage 2 - Brute-Force"
   ]
  },
  {
   "cell_type": "code",
   "execution_count": 22,
   "id": "0f50f89b",
   "metadata": {},
   "outputs": [],
   "source": [
    "import networkx as nx\n",
    "\n",
    "def cost(rails):\n",
    "    # Find distance between all pairs of stations\n",
    "    G=nx.Graph()\n",
    "\n",
    "    elist = []\n",
    "    for rail in rails:\n",
    "        start = rail[0]\n",
    "        for end in rail[1:]:\n",
    "            elist.append((start, end, dist[start.id, end.id]))\n",
    "            start = end    \n",
    "\n",
    "    G.add_weighted_edges_from(elist)\n",
    "    all_paths = list(nx.all_pairs_shortest_path(G))\n",
    "    \n",
    "    \n",
    "    station_dists = []\n",
    "    all_kinds = {s.kind for s in stations}\n",
    "\n",
    "    # For each starting station\n",
    "    for start, paths in all_paths:\n",
    "\n",
    "        distances = {kind: 1e12 for kind in all_kinds}\n",
    "\n",
    "        # Get its kind\n",
    "        for end, path in paths.items():\n",
    "            # For each other station: If kind is different\n",
    "            if start.kind != end.kind:\n",
    "                # Work out distance to that station and retain if min\n",
    "                distances[end.kind] = min(distances[end.kind], total_distance(path))\n",
    "\n",
    "        station_dists.append(sum(distances.values()))\n",
    "\n",
    "    return sum(station_dists)"
   ]
  },
  {
   "cell_type": "code",
   "execution_count": 24,
   "id": "53e0cfd4",
   "metadata": {},
   "outputs": [
    {
     "name": "stderr",
     "output_type": "stream",
     "text": [
      "100%|██████████████████████████████████████████████████████████████████████████████| 720/720 [00:00<00:00, 4768.27it/s]\n"
     ]
    }
   ],
   "source": [
    "from math import factorial\n",
    "from itertools import permutations\n",
    "from tqdm import tqdm\n",
    "\n",
    "def brute_force_tsp(stations):\n",
    "    max_dist = 1e15\n",
    "    best = None\n",
    "\n",
    "    for perm in tqdm(permutations(stations), total=factorial(N_STATIONS)):\n",
    "        perm = list(perm)\n",
    "        perm.append(perm[0])\n",
    "        perm = [perm]\n",
    "        \n",
    "        dist = cost(perm)\n",
    "        if dist < max_dist:\n",
    "            max_dist = dist\n",
    "            best = perm\n",
    "            \n",
    "    return best\n",
    "\n",
    "a = brute_force_tsp(stations)"
   ]
  },
  {
   "cell_type": "code",
   "execution_count": 25,
   "id": "36dd3eab",
   "metadata": {},
   "outputs": [
    {
     "data": {
      "text/plain": [
       "[[<0>, <1>, <4>, <5>, <2>, <3>, <0>]]"
      ]
     },
     "execution_count": 25,
     "metadata": {},
     "output_type": "execute_result"
    }
   ],
   "source": [
    "a"
   ]
  },
  {
   "cell_type": "code",
   "execution_count": 26,
   "id": "16ecbead",
   "metadata": {},
   "outputs": [
    {
     "data": {
      "image/png": "[encoded data removed]",
      "text/plain": [
       "<Figure size 864x864 with 1 Axes>"
      ]
     },
     "metadata": {},
     "output_type": "display_data"
    }
   ],
   "source": [
    "graph(stations, a)"
   ]
  },
  {
   "cell_type": "code",
   "execution_count": 27,
   "id": "52638082",
   "metadata": {},
   "outputs": [
    {
     "name": "stderr",
     "output_type": "stream",
     "text": [
      "100%|███████████████████████████████████████████████████████████████████████████████| 720/720 [00:00<00:00, 936.29it/s]\n"
     ]
    }
   ],
   "source": [
    "from math import factorial\n",
    "\n",
    "def brute_force_tsp(stations):\n",
    "    ''' This doesn't allow for loops or overlapping sections but it should '''\n",
    "    max_dist = 1e15\n",
    "    best = None\n",
    "\n",
    "    for perm in tqdm(permutations(stations), total=factorial(N_STATIONS)):\n",
    "        perm = list(perm)\n",
    "        perm.append(perm[0])\n",
    "        for split in range(2, len(perm)):\n",
    "            split = [perm[:split], perm[split:]] \n",
    "\n",
    "            dist = cost(split)\n",
    "            if dist < max_dist:\n",
    "                max_dist = dist\n",
    "                best = split\n",
    "            \n",
    "    return best\n",
    "\n",
    "a = brute_force_tsp(stations)"
   ]
  },
  {
   "cell_type": "code",
   "execution_count": 28,
   "id": "6899d9d4",
   "metadata": {},
   "outputs": [
    {
     "data": {
      "text/plain": [
       "[[<0>, <1>], [<2>, <3>, <5>, <4>, <0>]]"
      ]
     },
     "execution_count": 28,
     "metadata": {},
     "output_type": "execute_result"
    }
   ],
   "source": [
    "a"
   ]
  },
  {
   "cell_type": "code",
   "execution_count": 29,
   "id": "139bb861",
   "metadata": {},
   "outputs": [
    {
     "data": {
      "image/png": "[encoded data removed]",
      "text/plain": [
       "<Figure size 864x864 with 1 Axes>"
      ]
     },
     "metadata": {},
     "output_type": "display_data"
    }
   ],
   "source": [
    "graph(stations, a)"
   ]
  },
  {
   "cell_type": "code",
   "execution_count": null,
   "id": "17d136a6",
   "metadata": {},
   "outputs": [],
   "source": []
  }
 ],
 "metadata": {
  "kernelspec": {
   "display_name": "Python 3 (ipykernel)",
   "language": "python",
   "name": "python3"
  },
  "language_info": {
   "codemirror_mode": {
    "name": "ipython",
    "version": 3
   },
   "file_extension": ".py",
   "mimetype": "text/x-python",
   "name": "python",
   "nbconvert_exporter": "python",
   "pygments_lexer": "ipython3",
   "version": "3.9.12"
  }
 },
 "nbformat": 4,
 "nbformat_minor": 5
}
