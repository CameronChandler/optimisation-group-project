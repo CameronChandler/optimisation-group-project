{
 "cells": [
  {
   "cell_type": "code",
   "execution_count": 1,
   "id": "e1342f53",
   "metadata": {},
   "outputs": [],
   "source": [
    "from metro_utils import graph, Station\n",
    "import matplotlib.pyplot as plt\n",
    "%matplotlib inline\n",
    "import numpy as np\n",
    "\n",
    "SMALL, MED, LARGE, LW = 18, 24, 30, 3\n",
    "plt.rc('axes', titlesize=MED)    # fontsize of the axes title\n",
    "plt.rc('axes', labelsize=MED)    # fontsize of the x and y labels\n",
    "plt.rc('xtick', labelsize=SMALL) # fontsize of the tick labels\n",
    "plt.rc('ytick', labelsize=SMALL) # fontsize of the tick labels\n",
    "plt.rc('legend', fontsize=MED)   # legend fontsize\n",
    "plt.rc('font', size=LARGE)       # controls default text sizes\n",
    "\n",
    "from itertools import permutations, chain, combinations\n",
    "\n",
    "def distance(s1, s2):\n",
    "    lΔxl = abs(s1.x - s2.x)\n",
    "    lΔyl = abs(s1.y - s2.y)\n",
    "    \n",
    "    m = min(lΔxl, lΔyl)\n",
    "    M = max(lΔxl, lΔyl)\n",
    "    \n",
    "    return M + (2**0.5 - 1) * m\n",
    "\n",
    "def total_distance(rails):\n",
    "    # Check if rails is just one rail\n",
    "    if isinstance(rails[0], Station):\n",
    "        rails = [rails]\n",
    "        \n",
    "    dist = 0\n",
    "    for rail in rails:\n",
    "        start = rail[0]\n",
    "        for end in rail[1:]:\n",
    "            dist += distance(start, end)\n",
    "            start = end\n",
    "            \n",
    "    return dist\n",
    "\n",
    "def brute_force_tsp(stations):\n",
    "    max_dist = 1e12\n",
    "    best = None\n",
    "\n",
    "    for perm in permutations(stations):\n",
    "        perm = list(perm)\n",
    "        perm.append(perm[0])\n",
    "\n",
    "        dist = total_distance(perm)\n",
    "        if dist < max_dist:\n",
    "            max_dist = dist\n",
    "            best = perm\n",
    "            \n",
    "    return best\n",
    "\n",
    "N = 10 # Stations\n",
    "\n",
    "Station.reset()\n",
    "stations = [Station() for _ in range(N)]"
   ]
  },
  {
   "cell_type": "code",
   "execution_count": 2,
   "id": "f3eb281f",
   "metadata": {},
   "outputs": [],
   "source": [
    "#best = brute_force_tsp(stations)\n",
    "#total_distance(best)"
   ]
  },
  {
   "cell_type": "markdown",
   "id": "4bf80fc9",
   "metadata": {},
   "source": [
    "# Stage 0\n",
    "TSP\n",
    "\n",
    "$$\\begin{aligned}\n",
    "&z=\\min \\sum_{i=1}^{n} \\sum_{j=1}^{n} c_{i j} x_{i j} \\\\\n",
    "&\\text { s.t. } \\\\\n",
    "&\\sum_{j=1}^{n} x_{i j}=1, \\quad i \\in I, \\\\\n",
    "&\\sum_{i=1}^{n} x_{i j}=1, \\quad j \\in I, \\\\\n",
    "&\\sum_{i \\in S}\\sum_{j \\in S} x_{ij} \\leq |S|-1, \\qquad S \\subset I, 2 \\leq |S| \\leq n-1, \\\\\n",
    "&x_{i j} \\in\\{0,1\\}, \\quad i, j=1, \\ldots, n.\n",
    "\\end{aligned}$$"
   ]
  },
  {
   "cell_type": "code",
   "execution_count": 3,
   "id": "fe37a11f",
   "metadata": {},
   "outputs": [],
   "source": [
    "from math import ceil\n",
    "\n",
    "def subsets(iterable):\n",
    "    \"powerset([1,2,3]) --> () (1,) (2,) (3,) (1,2) (1,3) (2,3) (1,2,3)\"\n",
    "    s = list(iterable)\n",
    "    return [[s for s in sub] for sub in chain.from_iterable(combinations(s, r) for r in range(2, ceil((len(s)+1)/2) ))]\n",
    "\n",
    "subs = subsets(stations)\n",
    "\n",
    "dist = {(s1, s2): distance(s1, s2) for s1 in stations for s2 in stations}"
   ]
  },
  {
   "cell_type": "code",
   "execution_count": 4,
   "id": "44e0fd56",
   "metadata": {},
   "outputs": [
    {
     "name": "stdout",
     "output_type": "stream",
     "text": [
      "Set parameter Username\n",
      "Academic license - for non-commercial use only - expires 2022-05-18\n",
      "Gurobi Optimizer version 9.5.1 build v9.5.1rc2 (win64)\n",
      "Thread count: 4 physical cores, 4 logical processors, using up to 4 threads\n",
      "Optimize a model with 647 rows, 100 columns and 8550 nonzeros\n",
      "Model fingerprint: 0x9d04b251\n",
      "Variable types: 0 continuous, 100 integer (0 binary)\n",
      "Coefficient statistics:\n",
      "  Matrix range     [1e+00, 1e+00]\n",
      "  Objective range  [7e-02, 9e-01]\n",
      "  Bounds range     [0e+00, 0e+00]\n",
      "  RHS range        [1e+00, 4e+00]\n",
      "Found heuristic solution: objective 5.6214258\n",
      "Presolve removed 0 rows and 10 columns\n",
      "Presolve time: 0.02s\n",
      "Presolved: 647 rows, 90 columns, 8550 nonzeros\n",
      "Variable types: 0 continuous, 90 integer (90 binary)\n",
      "\n",
      "Root relaxation: objective 2.912720e+00, 26 iterations, 0.01 seconds (0.00 work units)\n",
      "\n",
      "    Nodes    |    Current Node    |     Objective Bounds      |     Work\n",
      " Expl Unexpl |  Obj  Depth IntInf | Incumbent    BestBd   Gap | It/Node Time\n",
      "\n",
      "*    0     0               0       2.9127203    2.91272  0.00%     -    0s\n",
      "\n",
      "Explored 1 nodes (26 simplex iterations) in 0.07 seconds (0.01 work units)\n",
      "Thread count was 4 (of 4 available processors)\n",
      "\n",
      "Solution count 2: 2.91272 5.62143 \n",
      "\n",
      "Optimal solution found (tolerance 1.00e-04)\n",
      "Best objective 2.912720265994e+00, best bound 2.912720265994e+00, gap 0.0000%\n"
     ]
    }
   ],
   "source": [
    "import gurobipy as gp\n",
    "from gurobipy import GRB\n",
    "\n",
    "m = gp.Model()\n",
    "\n",
    "x = m.addVars(N, N, vtype=GRB.INTEGER, name=\"x\")\n",
    "\n",
    "m.setObjective( gp.quicksum( dist[(s1, s2)]*x[s1.id, s2.id] for s1 in stations for s2 in stations if s1 != s2), GRB.MINIMIZE )\n",
    "\n",
    "# leave each station only once\n",
    "m.addConstrs( gp.quicksum(x[s1.id, s2.id] for s1 in stations if s1 != s2 ) == 1 for s2 in stations )\n",
    "# enter each station only once\n",
    "m.addConstrs( gp.quicksum(x[s1.id, s2.id] for s2 in stations if s1 != s2 ) == 1 for s1 in stations )\n",
    "# Subtour elimination constraints\n",
    "for sub in subs:\n",
    "    m.addConstr( gp.quicksum(x[s1.id, s2.id] for s1 in sub for s2 in sub if s1 != s2) <= len(sub) - 1 )\n",
    "\n",
    "m.optimize()"
   ]
  },
  {
   "cell_type": "code",
   "execution_count": 5,
   "id": "4c7348e1",
   "metadata": {},
   "outputs": [
    {
     "data": {
      "image/png": "[encoded data removed]",
      "text/plain": [
       "<Figure size 864x864 with 1 Axes>"
      ]
     },
     "metadata": {},
     "output_type": "display_data"
    }
   ],
   "source": [
    "def extract_stations(var_name):\n",
    "    ''' x[1, 2] -> (Station1, Station2)\n",
    "        x[1, 2, 1] -> (Station1, Station2, Rail1)\n",
    "    '''\n",
    "    i, j = var_name.index('['), var_name.index(']')\n",
    "    indexes = var_name[i+1: j].split(',')\n",
    "    \n",
    "    # If just two stations\n",
    "    if len(indexes) == 2:\n",
    "        return [Station.get_station(int(s)) for s in indexes]\n",
    "    # Else 2 stations and rail\n",
    "    return [Station.get_station(int(s)) for s in indexes[:2]] + [int(indexes[2])]\n",
    "            \n",
    "def pairs2rails(pairs):\n",
    "    ''' [(1, 2), (2, 3)] -> [1, 2, 3]'''\n",
    "\n",
    "    # Step 1. Check if there is an endpoint\n",
    "    starts = [pair[0] for pair in pairs]\n",
    "    ends   = [pair[1] for pair in pairs]\n",
    "\n",
    "    for end in ends:\n",
    "        if end not in starts:\n",
    "            station = end\n",
    "            break\n",
    "    else:\n",
    "        # We have a cycle so starting point is arbitrary\n",
    "        station = starts[0]\n",
    "\n",
    "    # Step 2. Work through list building up\n",
    "    pairs = dict(pairs)\n",
    "    rails = [station]\n",
    "\n",
    "    while pairs:\n",
    "        station = pairs.pop(station)\n",
    "        rails.append(station)\n",
    "        \n",
    "    return rails\n",
    "\n",
    "best = pairs2rails([extract_stations(v.varName) for v in m.getVars() if v.x > 1e-6])\n",
    "graph(stations, best)"
   ]
  },
  {
   "cell_type": "markdown",
   "id": "e3d63d6f",
   "metadata": {},
   "source": [
    "# Stage 1\n",
    "MTSP\n",
    "\n",
    "# This is Non-Linear\n",
    "\n",
    "$$\\begin{aligned}\n",
    "&z=\\min \\sum_{i=1}^{n} \\sum_{j=1}^{n} c_{i j} x_{i j} y_{ij}\\\\\n",
    "&\\text { s.t. } \\\\\n",
    "&\\sum_{j=1}^{n} x_{i j} y_{ij}=1, \\quad i \\in I \\\\\n",
    "&\\sum_{i=1}^{n} x_{i j} y_{ij}=1, \\quad j \\in I \\\\\n",
    "&2(y_{ij} + 1) = \\sum_{k=1}^n x_{ki} + \\sum_{k=1}^n x_{jk} , \\quad i \\in I, j \\in J\\\\\n",
    "&\\sum_{i=1}^n\\sum_{j=1}^n y_{ij} \\leq m, \\quad j \\in J\\\\\n",
    "&x_{i j} \\in\\{0,1\\}, \\quad i, j=1, \\ldots, n.\n",
    "\\end{aligned}$$\n",
    "\n",
    "\n",
    "# This is Linear\n",
    "\n",
    "$$\\begin{aligned}\n",
    "&z=\\min \\sum_{i=1}^{n} \\sum_{j=1}^{n} c_{i j} (x_{i j} - y_{ij}) \\\\\n",
    "&\\text { s.t. } \\\\\n",
    "&\\sum_{j=1}^{n} x_{i j} - y_{ij}=1, \\quad i \\in I \\\\\n",
    "&\\sum_{i=1}^{n} x_{i j} - y_{ij}=1, \\quad j \\in I \\\\\n",
    "&2(y_{ij} + 1) = \\sum_{k=1}^n x_{ki} + \\sum_{k=1}^n x_{jk} , \\quad i \\in I, j \\in J\\\\\n",
    "&\\sum_{i=1}^n\\sum_{j=1}^n y_{ij} \\leq m, \\quad j \\in J\\\\\n",
    "&x_{i j} \\in\\{0,1\\}, \\quad i, j=1, \\ldots, n.\n",
    "\\end{aligned}$$"
   ]
  },
  {
   "cell_type": "code",
   "execution_count": 74,
   "id": "292e871e",
   "metadata": {},
   "outputs": [
    {
     "name": "stdout",
     "output_type": "stream",
     "text": [
      "Gurobi Optimizer version 9.5.1 build v9.5.1rc2 (win64)\n",
      "Thread count: 4 physical cores, 4 logical processors, using up to 4 threads\n",
      "Optimize a model with 124 rows, 210 columns and 912 nonzeros\n",
      "Model fingerprint: 0x60563a92\n",
      "Variable types: 0 continuous, 210 integer (0 binary)\n",
      "Coefficient statistics:\n",
      "  Matrix range     [1e+00, 7e+00]\n",
      "  Objective range  [7e-02, 9e-01]\n",
      "  Bounds range     [0e+00, 0e+00]\n",
      "  RHS range        [1e+00, 6e+00]\n",
      "Presolve removed 16 rows and 58 columns\n",
      "Presolve time: 0.01s\n",
      "Presolved: 108 rows, 152 columns, 864 nonzeros\n",
      "Variable types: 0 continuous, 152 integer (144 binary)\n",
      "Found heuristic solution: objective 5.9450356\n",
      "\n",
      "Root relaxation: objective 2.812917e+00, 55 iterations, 0.00 seconds (0.00 work units)\n",
      "\n",
      "    Nodes    |    Current Node    |     Objective Bounds      |     Work\n",
      " Expl Unexpl |  Obj  Depth IntInf | Incumbent    BestBd   Gap | It/Node Time\n",
      "\n",
      "     0     0    2.81292    0   13    5.94504    2.81292  52.7%     -    0s\n",
      "H    0     0                       5.3118551    2.81292  47.0%     -    0s\n",
      "H    0     0                       4.0413737    2.81292  30.4%     -    0s\n",
      "     0     0    2.83825    0   31    4.04137    2.83825  29.8%     -    0s\n",
      "H    0     0                       4.0308430    2.83825  29.6%     -    0s\n",
      "H    0     0                       3.4610248    2.83825  18.0%     -    0s\n",
      "     0     0    2.83825    0   36    3.46102    2.83825  18.0%     -    0s\n",
      "     0     0    2.97892    0   17    3.46102    2.97892  13.9%     -    0s\n",
      "H    0     0                       3.4253624    2.97892  13.0%     -    0s\n",
      "     0     0    2.97892    0   17    3.42536    2.97892  13.0%     -    0s\n",
      "H    0     0                       3.4075860    2.97892  12.6%     -    0s\n",
      "H    0     0                       3.3974741    2.98042  12.3%     -    0s\n",
      "     0     0    2.98042    0   31    3.39747    2.98042  12.3%     -    0s\n",
      "H    0     0                       3.2473111    2.99135  7.88%     -    0s\n",
      "     0     0    2.99135    0   35    3.24731    2.99135  7.88%     -    0s\n",
      "     0     0    3.01318    0   29    3.24731    3.01318  7.21%     -    0s\n",
      "     0     0    3.01318    0   13    3.24731    3.01318  7.21%     -    0s\n",
      "     0     0    3.01318    0   26    3.24731    3.01318  7.21%     -    0s\n",
      "     0     0    3.01318    0   30    3.24731    3.01318  7.21%     -    0s\n",
      "     0     0    3.02871    0   27    3.24731    3.02871  6.73%     -    0s\n",
      "     0     0    3.03433    0   27    3.24731    3.03433  6.56%     -    0s\n",
      "     0     0    3.03433    0   32    3.24731    3.03433  6.56%     -    0s\n",
      "     0     0    3.03975    0   33    3.24731    3.03975  6.39%     -    0s\n",
      "H    0     0                       3.2473110    3.04497  6.23%     -    0s\n",
      "     0     0    3.04497    0   34    3.24731    3.04497  6.23%     -    0s\n",
      "     0     0    3.07071    0   37    3.24731    3.07071  5.44%     -    0s\n",
      "     0     0    3.09601    0   46    3.24731    3.09601  4.66%     -    0s\n",
      "     0     0    3.09851    0   47    3.24731    3.09851  4.58%     -    0s\n",
      "     0     0    3.24731    0   31    3.24731    3.24731  0.00%     -    0s\n",
      "\n",
      "Cutting planes:\n",
      "  Gomory: 3\n",
      "  MIR: 9\n",
      "  StrongCG: 1\n",
      "  Zero half: 8\n",
      "  RLT: 14\n",
      "  Relax-and-lift: 1\n",
      "\n",
      "Explored 1 nodes (365 simplex iterations) in 0.23 seconds (0.03 work units)\n",
      "Thread count was 4 (of 4 available processors)\n",
      "\n",
      "Solution count 10: 3.24731 3.24731 3.39747 ... 5.94504\n",
      "No other solutions better than 3.24731\n",
      "\n",
      "Optimal solution found (tolerance 1.00e-04)\n",
      "Warning: max constraint violation (4.6064e-06) exceeds tolerance\n",
      "Best objective 3.247310967351e+00, best bound 3.247310967351e+00, gap 0.0000%\n"
     ]
    }
   ],
   "source": [
    "import gurobipy as gp\n",
    "from gurobipy import GRB\n",
    "\n",
    "M = 2\n",
    "D = [s.id for s in stations[:M]]\n",
    "V = [s.id for s in stations[M:]]\n",
    "K = 3\n",
    "L = N - (M-1)*K\n",
    "mk = 1 # Num trains from kth depot\n",
    "\n",
    "c = {(s1.id, s2.id): distance(s1, s2) for s1 in stations for s2 in stations}\n",
    "\n",
    "m = gp.Model()\n",
    "\n",
    "x = m.addVars(N, N, M, vtype=GRB.INTEGER, name=\"x\")\n",
    "u = m.addVars(N, vtype=GRB.INTEGER, name=\"u\")\n",
    "\n",
    "m.setObjective(gp.quicksum( c[(k, j)]*x[k, j, k] + c[(j, k)]*x[j, k, k] for k in D for j in V) +\n",
    "               gp.quicksum( c[(i, j)]*x[i, j, k] for k in D for j in V for i in V), GRB.MINIMIZE)\n",
    "\n",
    "# 2\n",
    "m.addConstrs(gp.quicksum(x[k, j, k] for j in V) == mk for k in D)\n",
    "# 3\n",
    "m.addConstrs(gp.quicksum(x[k, j, k] for k in D) + gp.quicksum(x[i, j, k] for k in D for i in V) == 1 for j in V)\n",
    "# 4\n",
    "m.addConstrs(x[k, j, k] + gp.quicksum(x[i, j, k] for i in V) - x[j, k, k] - \n",
    "             gp.quicksum(x[j, i, k] for i in V) == 0 for k in D for j in V)\n",
    "# 5\n",
    "m.addConstrs(gp.quicksum(x[k, j, k] for j in V) - gp.quicksum(x[j, k, k] for j in V) == 0 for k in D)\n",
    "# 6\n",
    "m.addConstrs(u[i] + (L - 2)*gp.quicksum(x[k, i, k] for k in D) - \n",
    "             gp.quicksum(x[i, k, k] for k in D) <= L - 1 for i in V)\n",
    "# 7\n",
    "m.addConstrs(u[i] + gp.quicksum(x[k, i, k] for k in D) + (2 - K)*gp.quicksum(x[i, k, k] for k in D) >= 2 for i in V)\n",
    "# 8\n",
    "m.addConstrs(gp.quicksum(x[k, i, k] for k in D) + gp.quicksum(x[i, k, k] for k in D) <= 1 for i in V)\n",
    "# 9\n",
    "m.addConstrs(u[i] - u[j] + L*gp.quicksum(x[i, j, k] for k in D) + \n",
    "             (L - 2)*gp.quicksum(x[j, i, k] for k in D) <= L - 1 for i in V for j in V if i != j)\n",
    "# 10\n",
    "m.addConstrs(x[i, i, k] == 0 for i in V for k in D)\n",
    "\n",
    "m.optimize()"
   ]
  },
  {
   "cell_type": "code",
   "execution_count": 75,
   "id": "14f2616c",
   "metadata": {},
   "outputs": [
    {
     "name": "stdout",
     "output_type": "stream",
     "text": [
      "x[0,3,0] 1.0\n",
      "x[1,6,1] 1.0\n",
      "x[2,1,1] 1.0\n",
      "x[3,7,0] 1.0\n",
      "x[4,2,1] 1.0\n",
      "x[5,0,0] 1.000000383990385\n",
      "x[6,4,1] 1.0\n",
      "x[7,8,0] 1.0000003840049014\n",
      "x[8,9,0] 1.0\n",
      "x[9,5,0] 1.0\n",
      "u[2] 3.0\n",
      "u[3] 1.0\n",
      "u[4] 2.0\n",
      "u[5] 5.000000767564102\n",
      "u[6] 1.0\n",
      "u[7] 2.0000026875886094\n",
      "u[8] 3.000000769230769\n",
      "u[9] 4.000000767564103\n"
     ]
    }
   ],
   "source": [
    "for var in m.getVars():\n",
    "    if var.x > 1e-6:\n",
    "        print(var.varName, var.x)"
   ]
  },
  {
   "cell_type": "code",
   "execution_count": 76,
   "id": "05bea35b",
   "metadata": {},
   "outputs": [
    {
     "data": {
      "text/plain": [
       "defaultdict(list,\n",
       "            {0: [[0, 3], [3, 7], [5, 0], [7, 8], [8, 9], [9, 5]],\n",
       "             1: [[1, 6], [2, 1], [4, 2], [6, 4]]})"
      ]
     },
     "execution_count": 76,
     "metadata": {},
     "output_type": "execute_result"
    }
   ],
   "source": [
    "from collections import defaultdict as dd\n",
    "\n",
    "RAIL = 2\n",
    "\n",
    "connections = [extract_stations(v.varName) for v in m.getVars() if v.x > 1e-6 and v.varName[0] == 'x']\n",
    "\n",
    "rail_pairs = dd(list)\n",
    "for connection in connections:\n",
    "    rail_pairs[connection[RAIL]].append(connection[:2])\n",
    "    \n",
    "rail_pairs"
   ]
  },
  {
   "cell_type": "code",
   "execution_count": 77,
   "id": "a866baa4",
   "metadata": {},
   "outputs": [],
   "source": [
    "def pairs2rails(pairs):\n",
    "    ''' [(1, 2), (2, 3)] -> [1, 2, 3]'''\n",
    "\n",
    "    # Step 1. Check if there is an endpoint\n",
    "    starts = [pair[0] for pair in pairs]\n",
    "    ends   = [pair[1] for pair in pairs]\n",
    "\n",
    "    for end in ends:\n",
    "        if end not in starts:\n",
    "            station = end\n",
    "            break\n",
    "    else:\n",
    "        # We have a cycle so starting point is arbitrary\n",
    "        station = starts[0]\n",
    "\n",
    "    # Step 2. Work through list building up\n",
    "    pairs = dict(pairs)\n",
    "    rails = [station]\n",
    "\n",
    "    while pairs:\n",
    "        print(pairs, station)\n",
    "        station = pairs.pop(station)\n",
    "        rails.append(station)\n",
    "        \n",
    "    return rails"
   ]
  },
  {
   "cell_type": "code",
   "execution_count": 78,
   "id": "a3220cb6",
   "metadata": {},
   "outputs": [
    {
     "name": "stdout",
     "output_type": "stream",
     "text": [
      "{0: 3, 3: 7, 5: 0, 7: 8, 8: 9, 9: 5} 0\n",
      "{3: 7, 5: 0, 7: 8, 8: 9, 9: 5} 3\n",
      "{5: 0, 7: 8, 8: 9, 9: 5} 7\n",
      "{5: 0, 8: 9, 9: 5} 8\n",
      "{5: 0, 9: 5} 9\n",
      "{5: 0} 5\n",
      "{1: 6, 2: 1, 4: 2, 6: 4} 1\n",
      "{2: 1, 4: 2, 6: 4} 6\n",
      "{2: 1, 4: 2} 4\n",
      "{2: 1} 2\n"
     ]
    },
    {
     "data": {
      "text/plain": [
       "[[0, 3, 7, 8, 9, 5, 0], [1, 6, 4, 2, 1]]"
      ]
     },
     "execution_count": 78,
     "metadata": {},
     "output_type": "execute_result"
    }
   ],
   "source": [
    "rails = []\n",
    "\n",
    "for rail, pairs in rail_pairs.items():\n",
    "    rails.append(pairs2rails(pairs))\n",
    "    \n",
    "rails"
   ]
  },
  {
   "cell_type": "code",
   "execution_count": 79,
   "id": "7c7da016",
   "metadata": {},
   "outputs": [
    {
     "data": {
      "image/png": "[encoded data removed]",
      "text/plain": [
       "<Figure size 864x864 with 1 Axes>"
      ]
     },
     "metadata": {},
     "output_type": "display_data"
    }
   ],
   "source": [
    "graph(stations, rails)"
   ]
  },
  {
   "cell_type": "code",
   "execution_count": null,
   "id": "5d3f16d7",
   "metadata": {},
   "outputs": [],
   "source": []
  },
  {
   "cell_type": "code",
   "execution_count": null,
   "id": "596344c2",
   "metadata": {},
   "outputs": [],
   "source": []
  }
 ],
 "metadata": {
  "kernelspec": {
   "display_name": "Python 3 (ipykernel)",
   "language": "python",
   "name": "python3"
  },
  "language_info": {
   "codemirror_mode": {
    "name": "ipython",
    "version": 3
   },
   "file_extension": ".py",
   "mimetype": "text/x-python",
   "name": "python",
   "nbconvert_exporter": "python",
   "pygments_lexer": "ipython3",
   "version": "3.9.12"
  }
 },
 "nbformat": 4,
 "nbformat_minor": 5
}
